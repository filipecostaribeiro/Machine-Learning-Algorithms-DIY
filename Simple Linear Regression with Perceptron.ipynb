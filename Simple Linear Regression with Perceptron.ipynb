{
 "cells": [
  {
   "cell_type": "markdown",
   "id": "31dd6725-762d-4aca-9e96-cda54d249706",
   "metadata": {},
   "source": [
    "# Simple Linear Regression with Perceptron"
   ]
  },
  {
   "cell_type": "markdown",
   "id": "f7ed5624-f559-430d-9c26-302025f01f2f",
   "metadata": {},
   "source": [
    "## Table of Contents\n",
    "1. [What is a Simple Linear Regression Model](#1.0)\n",
    "2. [Finding the Parameters](#2.0)\n",
    "   1. [Loss Function(L) and Cost Function(C)](#2.1)\n",
    "   2. [Partial Derivatives](#2.2)\n",
    "   3. [Forward and Back Propagation](#2.3)\n",
    "3. [Implementation](#3.0)\n",
    "   1. [Dataset](#3.1)\n",
    "   2. [Data Preprocessing](#3.2)\n",
    "   3. [Training the Model](#3.3)\n",
    "   4. [Model](#3.4)\n",
    "   5. [Predictions](#3.5)\n",
    "   6. [Comparing results with scikit learn](#3.6)\n"
   ]
  },
  {
   "cell_type": "markdown",
   "id": "503395dc-feb2-4ae7-8a71-942e00bb7683",
   "metadata": {},
   "source": [
    "<a id=\"1.0\"></a>\n",
    "## What is a Simple Linear Regression Model\n"
   ]
  },
  {
   "cell_type": "markdown",
   "id": "f0020967-c90d-4a7a-bd0f-da5a2d59fd0c",
   "metadata": {},
   "source": [
    "A simple linear regression involves drawing a line ($\\hat{y} = wx + b$) that best describes the relationship between two variables.\n",
    "In other words, given a set of x-axis values, we aim to predict the corresponding y-axis values. For each prediction, we\n",
    "plug the $x$ values into the equation of the line to obtain the predicted value $\\hat{y}$.\n",
    "For each prediction, we calculate the residual error as the difference between the the predicted value $\\hat{y}$ and the observed value $y$.\n",
    "The line that minimizes the sum of the squared residuals is chosen, ensuring that no other line provides a smaller sum.\n",
    "\n",
    "$$\\text{Sum of squared residuals for n predictions} =\\sum_{i=1}^{n} \\left( \\hat{y}_{i} - y_{i} \\right)^2$$\r\n"
   ]
  },
  {
   "cell_type": "markdown",
   "id": "536b923d-c3b9-4ac1-9c88-09385b46d9c3",
   "metadata": {},
   "source": [
    "<a id=\"2.0\"></a>\n",
    "## Finding the Parameters "
   ]
  },
  {
   "cell_type": "markdown",
   "id": "0843b217-4fc7-4400-9c81-21153b6b56df",
   "metadata": {},
   "source": [
    "For this case, we need to determine the parameters $w$ and $b$. First we must define an equation (the loss function) that measures the error for individual predictions. To optimize the mode, we use a cost function, which is the average of the loss function over all training examples. With the cost function defined, in terms of the parameters $w$ and $b$, we can apply gradient descent to find the values that minimize it. This involves calculating the partial derivatives of the cost function with respect to $w$ and $b$ and iteratively updating the parameters in the direction that reduces the error."
   ]
  },
  {
   "cell_type": "markdown",
   "id": "2924607f-46c6-4cd4-9bb2-06faf35b38f8",
   "metadata": {},
   "source": [
    "<a id=\"2.1\"></a>\n",
    "### Loss Function(L) and Cost Function(C)"
   ]
  },
  {
   "cell_type": "markdown",
   "id": "5912c10e-631f-436e-971d-cf23bae35263",
   "metadata": {},
   "source": [
    "$$\\hat{y} = wx + b$$\n",
    "$$\\text{L} =\\sum_{i=1}^{n} \\left( \\hat{y}_{i} - y_{i} \\right)^2$$\n",
    "$$\\text{C} =\\frac{\\sum_{i=1}^{n} \\left( \\hat{y}_{i} - y_{i} \\right)^2}{n}\\frac{1}{2}$$\n",
    " "
   ]
  },
  {
   "cell_type": "markdown",
   "id": "2cc1e3ef-53ac-49ae-b9e1-f00c47368a92",
   "metadata": {},
   "source": [
    "For this case of cost function, we will divide by two merely for convenience, as taking the partial derivative will result in a simpler expression"
   ]
  },
  {
   "cell_type": "markdown",
   "id": "3c90e1ce-0f45-40ac-9479-830cc464f106",
   "metadata": {},
   "source": [
    "<a id=\"2.2\"></a>\n",
    "### Partial Derivatives"
   ]
  },
  {
   "cell_type": "markdown",
   "id": "26570379-e7c0-49cf-ba89-f8e940dbd5a8",
   "metadata": {},
   "source": [
    "\\begin{align}\n",
    "\\frac{\\partial \\mathcal{C} }{ \\partial w } &= \n",
    "\\frac{1}{n}\\sum_{i=1}^{n} \\left(\\hat{y}_{i} - y_{i}\\right)x_{i},\\\\\n",
    "\\frac{\\partial \\mathcal{C} }{ \\partial b } &= \n",
    "\\frac{1}{n}\\sum_{i=1}^{n} \\left(\\hat{y}_{i} - y_{i}\\right).\n",
    "\\end{align}"
   ]
  },
  {
   "cell_type": "markdown",
   "id": "5a6778ed-0a2f-4049-a1d2-c4cd93266a48",
   "metadata": {},
   "source": [
    "<a id=\"2.3\"></a>\n",
    "### Forward and Back Propagation"
   ]
  },
  {
   "cell_type": "markdown",
   "id": "6e13b76e-facb-4b20-a63e-0d1a68a5bf49",
   "metadata": {},
   "source": [
    "The goal at the end of the algorithm is to determine the optimal \n",
    "𝑤 and 𝑏\n",
    "\n",
    "Forward Propagation:\n",
    "We must first guess any value for 𝑤, and b. \n",
    "typically 𝑏 is initialized to 0. \n",
    "Using these parameters, we can calculate our initial cost.\n",
    "\n",
    "Backward Propagation:\n",
    "We now determine the corrections for the parameters based on gradient descent:\n",
    "\n",
    "\\begin{align}\r\n",
    "\\alpha &= \\text{learning rate}, \\\\\r\n",
    "w_{2} &= w_{1} - \\alpha \\frac{\\partial \\mathcal{C} }{ \\partial w }, \\\\\r\n",
    "b_{2} &= b_{1} - \\alpha \\frac{\\partial \\mathcal{C} }{ \\partial b }.\r\n",
    "\\end{align}\r\n",
    "\n",
    "\n",
    "Now, using the new 𝑤 and 𝑏, we perform the process again for a predetermined number of cycles. The calculated cost should decrease until it converges. Once convergence is achieved, we will have the optimal 𝑤 and 𝑏."
   ]
  },
  {
   "cell_type": "markdown",
   "id": "33204fc4-a17e-4fdb-92c4-e630975ab734",
   "metadata": {},
   "source": [
    "<a id=\"3.0\"></a>\n",
    "## Implementation"
   ]
  },
  {
   "cell_type": "code",
   "execution_count": 1,
   "id": "76db5c82-0b28-4df9-a67e-b7a2da61eee8",
   "metadata": {},
   "outputs": [],
   "source": [
    "import numpy as np\n",
    "import matplotlib.pyplot as plt\n",
    "import pandas as pd\n",
    "\n",
    "np.random.seed(3)"
   ]
  },
  {
   "cell_type": "markdown",
   "id": "04bccafd-3fd7-4f7e-9db0-7bb52c22cc2c",
   "metadata": {},
   "source": [
    "<a id=\"3.1\"></a>\n",
    "### Dataset"
   ]
  },
  {
   "cell_type": "code",
   "execution_count": 2,
   "id": "1cf7dbaa-5980-4027-821f-793e0299b310",
   "metadata": {},
   "outputs": [],
   "source": [
    "path = \"data/tvmarketing.csv\"\n",
    "\n",
    "df = pd.read_csv(path)"
   ]
  },
  {
   "cell_type": "code",
   "execution_count": 3,
   "id": "d7e78bdf-e8d3-4c65-9183-e5a99659ad08",
   "metadata": {},
   "outputs": [
    {
     "data": {
      "text/html": [
       "<div>\n",
       "<style scoped>\n",
       "    .dataframe tbody tr th:only-of-type {\n",
       "        vertical-align: middle;\n",
       "    }\n",
       "\n",
       "    .dataframe tbody tr th {\n",
       "        vertical-align: top;\n",
       "    }\n",
       "\n",
       "    .dataframe thead th {\n",
       "        text-align: right;\n",
       "    }\n",
       "</style>\n",
       "<table border=\"1\" class=\"dataframe\">\n",
       "  <thead>\n",
       "    <tr style=\"text-align: right;\">\n",
       "      <th></th>\n",
       "      <th>TV</th>\n",
       "      <th>Sales</th>\n",
       "    </tr>\n",
       "  </thead>\n",
       "  <tbody>\n",
       "    <tr>\n",
       "      <th>0</th>\n",
       "      <td>230.1</td>\n",
       "      <td>22.1</td>\n",
       "    </tr>\n",
       "    <tr>\n",
       "      <th>1</th>\n",
       "      <td>44.5</td>\n",
       "      <td>10.4</td>\n",
       "    </tr>\n",
       "    <tr>\n",
       "      <th>2</th>\n",
       "      <td>17.2</td>\n",
       "      <td>9.3</td>\n",
       "    </tr>\n",
       "    <tr>\n",
       "      <th>3</th>\n",
       "      <td>151.5</td>\n",
       "      <td>18.5</td>\n",
       "    </tr>\n",
       "    <tr>\n",
       "      <th>4</th>\n",
       "      <td>180.8</td>\n",
       "      <td>12.9</td>\n",
       "    </tr>\n",
       "  </tbody>\n",
       "</table>\n",
       "</div>"
      ],
      "text/plain": [
       "      TV  Sales\n",
       "0  230.1   22.1\n",
       "1   44.5   10.4\n",
       "2   17.2    9.3\n",
       "3  151.5   18.5\n",
       "4  180.8   12.9"
      ]
     },
     "execution_count": 3,
     "metadata": {},
     "output_type": "execute_result"
    }
   ],
   "source": [
    "df.head()"
   ]
  },
  {
   "cell_type": "code",
   "execution_count": 4,
   "id": "43d383f4-404d-49e9-9a06-c981dddaed84",
   "metadata": {},
   "outputs": [
    {
     "data": {
      "image/png": "[encoded data removed]",
      "text/plain": [
       "<Figure size 640x480 with 1 Axes>"
      ]
     },
     "metadata": {},
     "output_type": "display_data"
    }
   ],
   "source": [
    "df.plot(x='TV',y = 'Sales', kind = 'scatter')\n",
    "plt.show()"
   ]
  },
  {
   "cell_type": "markdown",
   "id": "29112f04-e1cf-4a45-bf98-30f8b13dcef7",
   "metadata": {},
   "source": [
    "<a id=\"3.2\"></a>\n",
    "### Data Preprocessing"
   ]
  },
  {
   "cell_type": "markdown",
   "id": "7a6f69c8-84ed-4aab-b265-111c4c4e4323",
   "metadata": {},
   "source": [
    "#### Normalization\n",
    "We need to normalize the values first to help gradient descent converge more efficiently."
   ]
  },
  {
   "cell_type": "code",
   "execution_count": 5,
   "id": "ef1d8df7-1c87-4a2f-8c3d-69e7bb5c23c2",
   "metadata": {},
   "outputs": [
    {
     "data": {
      "image/png": "[encoded data removed]",
      "text/plain": [
       "<Figure size 640x480 with 1 Axes>"
      ]
     },
     "metadata": {},
     "output_type": "display_data"
    }
   ],
   "source": [
    "df['TV_norm'] = (df['TV'] - np.mean(df['TV']))/np.std(df['TV'])\n",
    "df['Sales_norm'] = (df['Sales'] - np.mean(df['Sales']))/np.std(df['Sales'])\n",
    "df.plot(x='TV_norm', y='Sales_norm', kind='scatter')\n",
    "plt.show()"
   ]
  },
  {
   "cell_type": "markdown",
   "id": "b27dd62b-32f7-4a2f-a579-938dea616382",
   "metadata": {},
   "source": [
    "#### Arranging the values into a row vector"
   ]
  },
  {
   "cell_type": "code",
   "execution_count": 6,
   "id": "4cd424a5-9872-4d14-a5e3-fe7b3bcf0a74",
   "metadata": {},
   "outputs": [
    {
     "name": "stdout",
     "output_type": "stream",
     "text": [
      "The shape of X_norm: (1, 200)\n",
      "The shape of Y_norm: (1, 200)\n"
     ]
    }
   ],
   "source": [
    "X_norm = df['TV_norm']\n",
    "Y_norm = df['Sales_norm']\n",
    "\n",
    "X_norm = np.array(X_norm).reshape((1,len(X_norm)))\n",
    "Y_norm = np.array(Y_norm).reshape((1,len(Y_norm)))\n",
    "\n",
    "print(f'The shape of X_norm: {str(X_norm.shape)}')\n",
    "print(f'The shape of Y_norm: {str(Y_norm.shape)}')"
   ]
  },
  {
   "cell_type": "markdown",
   "id": "97b88932-9cca-490a-b51f-db93b3fc3277",
   "metadata": {},
   "source": [
    "<a id=\"3.3\"></a>\n",
    "### Training the model"
   ]
  },
  {
   "cell_type": "code",
   "execution_count": 7,
   "id": "6e1f6afc-29fd-4f9b-a9c1-10c5295de130",
   "metadata": {},
   "outputs": [
    {
     "name": "stdout",
     "output_type": "stream",
     "text": [
      "Cost for iteration 1: 0.4861688708015972\n",
      "Cost for iteration 2: 0.20574673042402977\n",
      "Cost for iteration 3: 0.19452984480892715\n",
      "Cost for iteration 4: 0.19408116938432307\n",
      "Cost for iteration 5: 0.19406322236733892\n",
      "Cost for iteration 6: 0.19406250448665952\n",
      "Cost for iteration 7: 0.19406247577143237\n",
      "Cost for iteration 8: 0.19406247462282328\n",
      "Cost for iteration 9: 0.1940624745768789\n",
      "Cost for iteration 10: 0.19406247457504114\n",
      "Cost for iteration 11: 0.19406247457496761\n",
      "Cost for iteration 12: 0.1940624745749647\n",
      "Cost for iteration 13: 0.19406247457496456\n",
      "Cost for iteration 14: 0.1940624745749646\n"
     ]
    },
    {
     "data": {
      "image/png": "[encoded data removed]",
      "text/plain": [
       "<Figure size 640x480 with 1 Axes>"
      ]
     },
     "metadata": {},
     "output_type": "display_data"
    },
    {
     "name": "stdout",
     "output_type": "stream",
     "text": [
      "w: 0.7822244247363778\n",
      "b: -2.7711166694643897e-16\n"
     ]
    }
   ],
   "source": [
    "# Random initialization of w\n",
    "w = np.random.randn(1,1)*0.01\n",
    "# Initiating b as 0\n",
    "b = np.zeros((1,1))\n",
    "# Defining the learning rate\n",
    "lr = 1.2\n",
    "# percentage difference between an error and its subsequent one\n",
    "diff = 0.0000000000000001\n",
    "\n",
    "# cost log for each iteration\n",
    "cost_list = []\n",
    "# counter for each iteration as a list and initial counter_count c\n",
    "count_list = []\n",
    "c = 0\n",
    "# getting the total number of predictions\n",
    "size = X_norm.size\n",
    "# loop start\n",
    "while True:\n",
    "    # forward propagation\n",
    "    y_hat = np.matmul(w,X_norm) + b\n",
    "        # computing cost for the current iteration\n",
    "    cost = np.sum((y_hat - Y_norm)**2)/(2*size)\n",
    "        # saving the cost value in a list\n",
    "    cost_list.append(cost)\n",
    "\n",
    "    # backward propagation\n",
    "        # partial derivatives\n",
    "    dw = 1/size * np.matmul((y_hat - Y_norm),X_norm.T)\n",
    "    db = 1/size *np.sum(y_hat - Y_norm)\n",
    "        # updating parameters\n",
    "    w = w - dw*lr\n",
    "    b = b - db*lr\n",
    "\n",
    "    #updating counter and saving in a list\n",
    "    c = c + 1\n",
    "    count_list.append(c)\n",
    "    # display the cost for each iteration\n",
    "    print(f'Cost for iteration {c}: {cost}')\n",
    "    \n",
    "    # Checking if the difference between the last two costs is acceptable\n",
    "    if len(cost_list) >1:\n",
    "        if ((cost_list[-2] - cost_list[-1])/cost_list[-2]) < diff:\n",
    "            break\n",
    "        elif c==100:\n",
    "            break\n",
    "w = w[0][0]\n",
    "b = b[0][0]\n",
    "# plot the cost for each iteraction\n",
    "plt.plot(count_list,cost_list)\n",
    "plt.show()\n",
    "print(f'w: {w}')\n",
    "print(f'b: {b}')"
   ]
  },
  {
   "cell_type": "markdown",
   "id": "242a8e7a-9619-4449-b79c-eaa5c1741110",
   "metadata": {},
   "source": [
    "<a id=\"3.4\"></a>\n",
    "### Model"
   ]
  },
  {
   "cell_type": "code",
   "execution_count": 8,
   "id": "36385e16-1c70-490c-9995-d364411d7fb1",
   "metadata": {},
   "outputs": [
    {
     "data": {
      "image/png": "[encoded data removed]",
      "text/plain": [
       "<Figure size 640x480 with 1 Axes>"
      ]
     },
     "metadata": {},
     "output_type": "display_data"
    }
   ],
   "source": [
    "x_p = np.arange(np.min(X_norm),np.max(X_norm)*1.1,0.1)\n",
    "plt.scatter(X_norm,Y_norm)\n",
    "plt.plot(x_p, w*x_p+b, \"red\")\n",
    "plt.show()"
   ]
  },
  {
   "cell_type": "markdown",
   "id": "d80031a9-fd79-4ea7-bb8b-606413e514eb",
   "metadata": {},
   "source": [
    "<a id=\"3.5\"></a>\n",
    "### Predictions"
   ]
  },
  {
   "cell_type": "code",
   "execution_count": 9,
   "id": "53ea71a2-f74d-4a07-967f-efc1df678087",
   "metadata": {},
   "outputs": [
    {
     "name": "stdout",
     "output_type": "stream",
     "text": [
      "[7.032593550246733, 9.409425571517204, 12.736990401295865, 20.342852869361373]\n"
     ]
    }
   ],
   "source": [
    "# values to predict\n",
    "X_pred = [0,50, 120, 280]\n",
    "# values to predict normalized\n",
    "X_pred_norm = []\n",
    "# predicted values normalized\n",
    "Y_pred_norm = []\n",
    "# predicted values denormalized\n",
    "Y_pred = []\n",
    "\n",
    "# normalize values do predict\n",
    "for n in X_pred:\n",
    "    X_pred_norm.append((n - np.mean(df['TV']))/np.std(df['TV']))\n",
    "\n",
    "# prediction \n",
    "for n in X_pred_norm:\n",
    "    Y_pred_norm.append((n*w)+b)\n",
    "\n",
    "# denormalize predicted values\n",
    "for n in Y_pred_norm:\n",
    "    Y_pred.append( (n*np.std(df['Sales']))+np.mean(df['Sales']))\n",
    "\n",
    "print(Y_pred)\n"
   ]
  },
  {
   "cell_type": "markdown",
   "id": "826ce302-436e-470b-8a3e-3711f686e383",
   "metadata": {},
   "source": [
    "<a id=\"3.6\"></a>\n",
    "### Comparing results with scikit learn"
   ]
  },
  {
   "cell_type": "code",
   "execution_count": 41,
   "id": "5625d487-7170-4ad8-9994-bdd63598f830",
   "metadata": {},
   "outputs": [
    {
     "name": "stdout",
     "output_type": "stream",
     "text": [
      "Resultado model created: [7.032593550246733, 9.409425571517204, 12.736990401295865, 20.342852869361373]\n",
      "Resultado scikit learn: [ 7.03259355  9.40942557 12.7369904  20.34285287]\n"
     ]
    }
   ],
   "source": [
    "from sklearn.linear_model import LinearRegression\n",
    "X_norm = df['TV']\n",
    "X_norm = np.array(X_norm).reshape(-1,1)\n",
    "Y_norm = df['Sales']\n",
    "Y_norm = np.array(Y_norm).reshape(-1,1)\n",
    "\n",
    "model = LinearRegression()\n",
    "model.fit(X_norm,Y_norm)\n",
    "Y_pred_2 = model.predict(X_pred.reshape(-1,1))\n",
    "Y_pred_2 = Y_pred_2.ravel()\n",
    "\n",
    "print(f'Resultado model created: {Y_pred}')\n",
    "print(f'Resultado scikit learn: {Y_pred_2}')"
   ]
  }
 ],
 "metadata": {
  "kernelspec": {
   "display_name": "Python 3 (ipykernel)",
   "language": "python",
   "name": "python3"
  },
  "language_info": {
   "codemirror_mode": {
    "name": "ipython",
    "version": 3
   },
   "file_extension": ".py",
   "mimetype": "text/x-python",
   "name": "python",
   "nbconvert_exporter": "python",
   "pygments_lexer": "ipython3",
   "version": "3.11.7"
  }
 },
 "nbformat": 4,
 "nbformat_minor": 5
}
